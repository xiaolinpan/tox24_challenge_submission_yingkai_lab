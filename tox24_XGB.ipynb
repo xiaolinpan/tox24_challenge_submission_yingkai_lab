{
 "cells": [
  {
   "cell_type": "code",
   "execution_count": 12,
   "metadata": {},
   "outputs": [],
   "source": [
    "import os\n",
    "import requests\n",
    "import zipfile\n",
    "import io\n",
    "import pickle\n",
    "import numpy as np\n",
    "import pandas as pd\n",
    "from rdkit.Chem import AllChem\n",
    "from rdkit import Chem\n",
    "from rdkit.Chem import Descriptors\n",
    "from rdkit.ML.Descriptors import MoleculeDescriptors\n",
    "from rdkit import Chem\n",
    "from rdkit.Chem import AllChem\n",
    "import molvs\n",
    "\n",
    "def check_molecule(smiles):\n",
    "    try:\n",
    "        mol = molvs.Standardizer().standardize(Chem.MolFromSmiles(smiles))\n",
    "        if mol is None:\n",
    "            return None\n",
    "        else:\n",
    "            if mol.GetNumAtoms() <= 1:\n",
    "                print(f'Error: {smiles} is invalid')\n",
    "                return None\n",
    "            else:\n",
    "                return Chem.MolToSmiles(mol, isomericSmiles=True)\n",
    "    except:\n",
    "        print(f'Error: {smiles} is invalid')\n",
    "        return None\n",
    "    \n",
    "# set seed\n",
    "seed = 0\n",
    "np.random.seed(seed)"
   ]
  },
  {
   "cell_type": "code",
   "execution_count": 13,
   "metadata": {},
   "outputs": [
    {
     "data": {
      "text/html": [
       "<div>\n",
       "<style scoped>\n",
       "    .dataframe tbody tr th:only-of-type {\n",
       "        vertical-align: middle;\n",
       "    }\n",
       "\n",
       "    .dataframe tbody tr th {\n",
       "        vertical-align: top;\n",
       "    }\n",
       "\n",
       "    .dataframe thead th {\n",
       "        text-align: right;\n",
       "    }\n",
       "</style>\n",
       "<table border=\"1\" class=\"dataframe\">\n",
       "  <thead>\n",
       "    <tr style=\"text-align: right;\">\n",
       "      <th></th>\n",
       "      <th>SMILES</th>\n",
       "      <th>activity</th>\n",
       "      <th>cSMILES</th>\n",
       "      <th>smiles</th>\n",
       "      <th>y</th>\n",
       "      <th>exp_mean [nM]</th>\n",
       "      <th>cliff_mol</th>\n",
       "      <th>split</th>\n",
       "      <th>Uniprot_id</th>\n",
       "      <th>Sequence</th>\n",
       "      <th>Activity_Type</th>\n",
       "      <th>Note</th>\n",
       "    </tr>\n",
       "  </thead>\n",
       "  <tbody>\n",
       "    <tr>\n",
       "      <th>0</th>\n",
       "      <td>CC1(C)[C@@H]2C[C@H]1C(=C)CC2</td>\n",
       "      <td>12.3</td>\n",
       "      <td>C=C1CC[C@H]2C[C@@H]1C2(C)C</td>\n",
       "      <td>C=C1CC[C@H]2C[C@@H]1C2(C)C</td>\n",
       "      <td>12.3</td>\n",
       "      <td>NaN</td>\n",
       "      <td>0</td>\n",
       "      <td>train</td>\n",
       "      <td>P02766</td>\n",
       "      <td>MASHRLLLLCLAGLVFVSEAGPTGTGESKCPLMVKVLDAVRGSPAI...</td>\n",
       "      <td>NaN</td>\n",
       "      <td>NaN</td>\n",
       "    </tr>\n",
       "    <tr>\n",
       "      <th>1</th>\n",
       "      <td>COC(=O)C(C)OC1=CC=C(OC2=CC=C(Cl)C=C2Cl)C=C1</td>\n",
       "      <td>94.1</td>\n",
       "      <td>COC(=O)C(C)Oc1ccc(Oc2ccc(Cl)cc2Cl)cc1</td>\n",
       "      <td>COC(=O)C(C)Oc1ccc(Oc2ccc(Cl)cc2Cl)cc1</td>\n",
       "      <td>94.1</td>\n",
       "      <td>NaN</td>\n",
       "      <td>0</td>\n",
       "      <td>train</td>\n",
       "      <td>P02766</td>\n",
       "      <td>MASHRLLLLCLAGLVFVSEAGPTGTGESKCPLMVKVLDAVRGSPAI...</td>\n",
       "      <td>NaN</td>\n",
       "      <td>NaN</td>\n",
       "    </tr>\n",
       "    <tr>\n",
       "      <th>2</th>\n",
       "      <td>CCCCCCCCCCCCCC(=O)OCC(O)CO</td>\n",
       "      <td>38.1</td>\n",
       "      <td>CCCCCCCCCCCCCC(=O)OCC(O)CO</td>\n",
       "      <td>CCCCCCCCCCCCCC(=O)OCC(O)CO</td>\n",
       "      <td>38.1</td>\n",
       "      <td>NaN</td>\n",
       "      <td>0</td>\n",
       "      <td>train</td>\n",
       "      <td>P02766</td>\n",
       "      <td>MASHRLLLLCLAGLVFVSEAGPTGTGESKCPLMVKVLDAVRGSPAI...</td>\n",
       "      <td>NaN</td>\n",
       "      <td>NaN</td>\n",
       "    </tr>\n",
       "    <tr>\n",
       "      <th>3</th>\n",
       "      <td>CC(=O)O[C@@H]1C[C@@H]2CC[C@@]1(C)C2(C)C</td>\n",
       "      <td>11.8</td>\n",
       "      <td>CC(=O)O[C@@H]1C[C@@H]2CC[C@@]1(C)C2(C)C</td>\n",
       "      <td>CC(=O)O[C@@H]1C[C@@H]2CC[C@@]1(C)C2(C)C</td>\n",
       "      <td>11.8</td>\n",
       "      <td>NaN</td>\n",
       "      <td>0</td>\n",
       "      <td>train</td>\n",
       "      <td>P02766</td>\n",
       "      <td>MASHRLLLLCLAGLVFVSEAGPTGTGESKCPLMVKVLDAVRGSPAI...</td>\n",
       "      <td>NaN</td>\n",
       "      <td>NaN</td>\n",
       "    </tr>\n",
       "    <tr>\n",
       "      <th>4</th>\n",
       "      <td>CCCCCCCCCC=CCC1CC(=O)OC1=O</td>\n",
       "      <td>98.4</td>\n",
       "      <td>CCCCCCCCCC=CCC1CC(=O)OC1=O</td>\n",
       "      <td>CCCCCCCCCC=CCC1CC(=O)OC1=O</td>\n",
       "      <td>98.4</td>\n",
       "      <td>NaN</td>\n",
       "      <td>0</td>\n",
       "      <td>train</td>\n",
       "      <td>P02766</td>\n",
       "      <td>MASHRLLLLCLAGLVFVSEAGPTGTGESKCPLMVKVLDAVRGSPAI...</td>\n",
       "      <td>NaN</td>\n",
       "      <td>NaN</td>\n",
       "    </tr>\n",
       "    <tr>\n",
       "      <th>...</th>\n",
       "      <td>...</td>\n",
       "      <td>...</td>\n",
       "      <td>...</td>\n",
       "      <td>...</td>\n",
       "      <td>...</td>\n",
       "      <td>...</td>\n",
       "      <td>...</td>\n",
       "      <td>...</td>\n",
       "      <td>...</td>\n",
       "      <td>...</td>\n",
       "      <td>...</td>\n",
       "      <td>...</td>\n",
       "    </tr>\n",
       "    <tr>\n",
       "      <th>1797</th>\n",
       "      <td>NaN</td>\n",
       "      <td>NaN</td>\n",
       "      <td>NaN</td>\n",
       "      <td>COc1ccc(C=O)cc1OC</td>\n",
       "      <td>28.9</td>\n",
       "      <td>NaN</td>\n",
       "      <td>0</td>\n",
       "      <td>test</td>\n",
       "      <td>P02766_3d7p</td>\n",
       "      <td>CPLMVKVLDAVRGSPAINVAVHVFRKAADDTWEPFASGKTSESGEL...</td>\n",
       "      <td>NaN</td>\n",
       "      <td>NaN</td>\n",
       "    </tr>\n",
       "    <tr>\n",
       "      <th>1798</th>\n",
       "      <td>NaN</td>\n",
       "      <td>NaN</td>\n",
       "      <td>NaN</td>\n",
       "      <td>C=CC1(C)OC(=O)N(c2cc(Cl)cc(Cl)c2)C1=O</td>\n",
       "      <td>90.1</td>\n",
       "      <td>NaN</td>\n",
       "      <td>0</td>\n",
       "      <td>test</td>\n",
       "      <td>P02766_3d7p</td>\n",
       "      <td>CPLMVKVLDAVRGSPAINVAVHVFRKAADDTWEPFASGKTSESGEL...</td>\n",
       "      <td>NaN</td>\n",
       "      <td>NaN</td>\n",
       "    </tr>\n",
       "    <tr>\n",
       "      <th>1799</th>\n",
       "      <td>NaN</td>\n",
       "      <td>NaN</td>\n",
       "      <td>NaN</td>\n",
       "      <td>COP(=O)(OC)O/C(=C\\Cl)c1cc(Cl)c(Cl)cc1Cl</td>\n",
       "      <td>100.9</td>\n",
       "      <td>NaN</td>\n",
       "      <td>0</td>\n",
       "      <td>test</td>\n",
       "      <td>P02766_3d7p</td>\n",
       "      <td>CPLMVKVLDAVRGSPAINVAVHVFRKAADDTWEPFASGKTSESGEL...</td>\n",
       "      <td>NaN</td>\n",
       "      <td>NaN</td>\n",
       "    </tr>\n",
       "    <tr>\n",
       "      <th>1800</th>\n",
       "      <td>NaN</td>\n",
       "      <td>NaN</td>\n",
       "      <td>NaN</td>\n",
       "      <td>[O-]n1ccccc1=S.[O-]n1ccccc1=S.[ZnH2+2]</td>\n",
       "      <td>21.1</td>\n",
       "      <td>NaN</td>\n",
       "      <td>0</td>\n",
       "      <td>test</td>\n",
       "      <td>P02766_3d7p</td>\n",
       "      <td>CPLMVKVLDAVRGSPAINVAVHVFRKAADDTWEPFASGKTSESGEL...</td>\n",
       "      <td>NaN</td>\n",
       "      <td>NaN</td>\n",
       "    </tr>\n",
       "    <tr>\n",
       "      <th>1801</th>\n",
       "      <td>NaN</td>\n",
       "      <td>NaN</td>\n",
       "      <td>NaN</td>\n",
       "      <td>CCC(C)(NC(=O)c1cc(Cl)c(C)c(Cl)c1)C(=O)CCl</td>\n",
       "      <td>63.2</td>\n",
       "      <td>NaN</td>\n",
       "      <td>0</td>\n",
       "      <td>test</td>\n",
       "      <td>P02766_3d7p</td>\n",
       "      <td>CPLMVKVLDAVRGSPAINVAVHVFRKAADDTWEPFASGKTSESGEL...</td>\n",
       "      <td>NaN</td>\n",
       "      <td>NaN</td>\n",
       "    </tr>\n",
       "  </tbody>\n",
       "</table>\n",
       "<p>1802 rows × 12 columns</p>\n",
       "</div>"
      ],
      "text/plain": [
       "                                           SMILES  activity  \\\n",
       "0                    CC1(C)[C@@H]2C[C@H]1C(=C)CC2      12.3   \n",
       "1     COC(=O)C(C)OC1=CC=C(OC2=CC=C(Cl)C=C2Cl)C=C1      94.1   \n",
       "2                      CCCCCCCCCCCCCC(=O)OCC(O)CO      38.1   \n",
       "3         CC(=O)O[C@@H]1C[C@@H]2CC[C@@]1(C)C2(C)C      11.8   \n",
       "4                      CCCCCCCCCC=CCC1CC(=O)OC1=O      98.4   \n",
       "...                                           ...       ...   \n",
       "1797                                          NaN       NaN   \n",
       "1798                                          NaN       NaN   \n",
       "1799                                          NaN       NaN   \n",
       "1800                                          NaN       NaN   \n",
       "1801                                          NaN       NaN   \n",
       "\n",
       "                                      cSMILES  \\\n",
       "0                  C=C1CC[C@H]2C[C@@H]1C2(C)C   \n",
       "1       COC(=O)C(C)Oc1ccc(Oc2ccc(Cl)cc2Cl)cc1   \n",
       "2                  CCCCCCCCCCCCCC(=O)OCC(O)CO   \n",
       "3     CC(=O)O[C@@H]1C[C@@H]2CC[C@@]1(C)C2(C)C   \n",
       "4                  CCCCCCCCCC=CCC1CC(=O)OC1=O   \n",
       "...                                       ...   \n",
       "1797                                      NaN   \n",
       "1798                                      NaN   \n",
       "1799                                      NaN   \n",
       "1800                                      NaN   \n",
       "1801                                      NaN   \n",
       "\n",
       "                                         smiles      y  exp_mean [nM]  \\\n",
       "0                    C=C1CC[C@H]2C[C@@H]1C2(C)C   12.3            NaN   \n",
       "1         COC(=O)C(C)Oc1ccc(Oc2ccc(Cl)cc2Cl)cc1   94.1            NaN   \n",
       "2                    CCCCCCCCCCCCCC(=O)OCC(O)CO   38.1            NaN   \n",
       "3       CC(=O)O[C@@H]1C[C@@H]2CC[C@@]1(C)C2(C)C   11.8            NaN   \n",
       "4                    CCCCCCCCCC=CCC1CC(=O)OC1=O   98.4            NaN   \n",
       "...                                         ...    ...            ...   \n",
       "1797                          COc1ccc(C=O)cc1OC   28.9            NaN   \n",
       "1798      C=CC1(C)OC(=O)N(c2cc(Cl)cc(Cl)c2)C1=O   90.1            NaN   \n",
       "1799    COP(=O)(OC)O/C(=C\\Cl)c1cc(Cl)c(Cl)cc1Cl  100.9            NaN   \n",
       "1800     [O-]n1ccccc1=S.[O-]n1ccccc1=S.[ZnH2+2]   21.1            NaN   \n",
       "1801  CCC(C)(NC(=O)c1cc(Cl)c(C)c(Cl)c1)C(=O)CCl   63.2            NaN   \n",
       "\n",
       "      cliff_mol  split   Uniprot_id  \\\n",
       "0             0  train       P02766   \n",
       "1             0  train       P02766   \n",
       "2             0  train       P02766   \n",
       "3             0  train       P02766   \n",
       "4             0  train       P02766   \n",
       "...         ...    ...          ...   \n",
       "1797          0   test  P02766_3d7p   \n",
       "1798          0   test  P02766_3d7p   \n",
       "1799          0   test  P02766_3d7p   \n",
       "1800          0   test  P02766_3d7p   \n",
       "1801          0   test  P02766_3d7p   \n",
       "\n",
       "                                               Sequence  Activity_Type  Note  \n",
       "0     MASHRLLLLCLAGLVFVSEAGPTGTGESKCPLMVKVLDAVRGSPAI...            NaN   NaN  \n",
       "1     MASHRLLLLCLAGLVFVSEAGPTGTGESKCPLMVKVLDAVRGSPAI...            NaN   NaN  \n",
       "2     MASHRLLLLCLAGLVFVSEAGPTGTGESKCPLMVKVLDAVRGSPAI...            NaN   NaN  \n",
       "3     MASHRLLLLCLAGLVFVSEAGPTGTGESKCPLMVKVLDAVRGSPAI...            NaN   NaN  \n",
       "4     MASHRLLLLCLAGLVFVSEAGPTGTGESKCPLMVKVLDAVRGSPAI...            NaN   NaN  \n",
       "...                                                 ...            ...   ...  \n",
       "1797  CPLMVKVLDAVRGSPAINVAVHVFRKAADDTWEPFASGKTSESGEL...            NaN   NaN  \n",
       "1798  CPLMVKVLDAVRGSPAINVAVHVFRKAADDTWEPFASGKTSESGEL...            NaN   NaN  \n",
       "1799  CPLMVKVLDAVRGSPAINVAVHVFRKAADDTWEPFASGKTSESGEL...            NaN   NaN  \n",
       "1800  CPLMVKVLDAVRGSPAINVAVHVFRKAADDTWEPFASGKTSESGEL...            NaN   NaN  \n",
       "1801  CPLMVKVLDAVRGSPAINVAVHVFRKAADDTWEPFASGKTSESGEL...            NaN   NaN  \n",
       "\n",
       "[1802 rows x 12 columns]"
      ]
     },
     "execution_count": 13,
     "metadata": {},
     "output_type": "execute_result"
    }
   ],
   "source": [
    "with open('5_fold_5_split.pl', 'rb') as f:\n",
    "    data = pickle.load(f)\n",
    "ref_data = pd.read_csv('test_data.csv')\n",
    "uni_seq_dict = ref_data.set_index('Uniprot_id')['Sequence'].to_dict()\n",
    "test_data = ref_data[ref_data['split'] == 'test']\n",
    "for idx, d in enumerate(data):\n",
    "    os.makedirs(f'repeat_{idx}', exist_ok=True)\n",
    "    for fold in d.keys():\n",
    "        fold_train = d[fold]['train']\n",
    "        fold_train['smiles'] = fold_train['cSMILES']\n",
    "        fold_train['y'] = fold_train['activity']\n",
    "        fold_train['exp_mean [nM]'] = None\n",
    "        fold_train['cliff_mol'] = 0\n",
    "        fold_train['split'] = 'train'\n",
    "        fold_train['Uniprot_id'] = 'P02766'\n",
    "        fold_train['Sequence'] = uni_seq_dict['P02766']\n",
    "        fold_train['smiles'] = fold_train['smiles'].map(check_molecule)\n",
    "        fold_train = fold_train.dropna(subset=['smiles'])\n",
    "        \n",
    "        fold_val = d[fold]['valid'] \n",
    "        fold_val['smiles'] = fold_val['cSMILES']\n",
    "        fold_val['y'] = fold_val['activity']\n",
    "        fold_val['exp_mean [nM]'] = None\n",
    "        fold_val['cliff_mol'] = 0\n",
    "        fold_val['split'] = 'valid'\n",
    "        fold_val['Uniprot_id'] = 'P02766'\n",
    "        fold_val['Sequence'] = uni_seq_dict['P02766']\n",
    "        fold_val['smiles'] = fold_val['smiles'].map(check_molecule)\n",
    "        fold_val = fold_val.dropna(subset=['smiles'])\n",
    "\n",
    "        fold_data = pd.concat([fold_train, fold_val], axis=0)       \n",
    "        fold_data = pd.concat([fold_data, test_data], axis=0).reset_index(drop=True)\n",
    "        fold_data.to_csv(f'repeat_{idx}/fold_{fold}.csv', index=False)\n",
    "    \n",
    "fold_data"
   ]
  },
  {
   "cell_type": "code",
   "execution_count": 14,
   "metadata": {},
   "outputs": [],
   "source": [
    "# generating molecular fingerprints and descriptors\n",
    "def Morgan_fingerprint(smiles):\n",
    "    mols = [Chem.MolFromSmiles(i) for i in smiles]\n",
    "    fps = [AllChem.GetMorganFingerprintAsBitVect(mol, 2, nBits=2048) for mol in mols]\n",
    "    return fps\n",
    "\n",
    "def feature_pipeline(df):\n",
    "    morgan_fps = Morgan_fingerprint(df['smiles'])\n",
    "    morgan_fps_name = [f'Morgan_{i}' for i in range(len(morgan_fps[0]))]\n",
    "    # combine all features and organize them into a dataframe\n",
    "    df_feat = pd.DataFrame(np.array(morgan_fps), columns=morgan_fps_name)\n",
    "    print('Morgan fingerprints shape:', df_feat.shape)\n",
    "    assert len(df_feat) == len(df)\n",
    "    df_feat['y'] = df['y'].values\n",
    "    return df_feat"
   ]
  },
  {
   "cell_type": "code",
   "execution_count": 15,
   "metadata": {},
   "outputs": [
    {
     "name": "stdout",
     "output_type": "stream",
     "text": [
      "Morgan fingerprints shape: (961, 2048)\n",
      "Morgan fingerprints shape: (241, 2048)\n",
      "Morgan fingerprints shape: (600, 2048)\n"
     ]
    }
   ],
   "source": [
    "df = pd.read_csv('repeat_0/fold_0.csv')\n",
    "train, valid, test = df[df['split'] == 'train'], df[df['split'] == 'valid'], df[df['split'] == 'test']\n",
    "train_data, valid_data, test_data = feature_pipeline(train), feature_pipeline(valid), feature_pipeline(test)"
   ]
  },
  {
   "cell_type": "markdown",
   "metadata": {},
   "source": [
    "# Model training"
   ]
  },
  {
   "cell_type": "code",
   "execution_count": 16,
   "metadata": {},
   "outputs": [
    {
     "name": "stdout",
     "output_type": "stream",
     "text": [
      "Morgan fingerprints shape: (961, 2048)\n",
      "Morgan fingerprints shape: (241, 2048)\n",
      "Morgan fingerprints shape: (600, 2048)\n"
     ]
    },
    {
     "name": "stderr",
     "output_type": "stream",
     "text": [
      "c:\\Users\\Administrator\\.conda\\envs\\cheminfo\\lib\\site-packages\\xgboost\\core.py:726: FutureWarning: Pass `evals` as keyword args.\n",
      "  warnings.warn(msg, FutureWarning)\n"
     ]
    },
    {
     "name": "stdout",
     "output_type": "stream",
     "text": [
      "R2: 0.4417, RMSE: 26.7272, MAE: 20.5504, PCC: 0.6700\n"
     ]
    }
   ],
   "source": [
    "from sklearn.metrics import mean_squared_error, mean_absolute_error, r2_score\n",
    "from scipy.stats import pearsonr\n",
    "\n",
    "def calc_score(label, pred):\n",
    "    # calculate R2, RMSE, MAE, PCC\n",
    "    r2 = r2_score(label, pred)\n",
    "    rmse = np.sqrt(mean_squared_error(label, pred))\n",
    "    mae = mean_absolute_error(label, pred)\n",
    "    pcc, _ = pearsonr(label, pred)\n",
    "    return r2, rmse, mae, pcc\n",
    "\n",
    "# train a XGBoost model\n",
    "import xgboost as xgb\n",
    "\n",
    "df = pd.read_csv('repeat_0/fold_0.csv')\n",
    "train, valid, test = df[df['split'] == 'train'], df[df['split'] == 'valid'], df[df['split'] == 'test']\n",
    "train_data, valid_data, test_data = feature_pipeline(train), feature_pipeline(valid), feature_pipeline(test)\n",
    "\n",
    "dtrain = xgb.DMatrix(train_data.drop(columns=['y']), label=train_data['y'])\n",
    "dvalid = xgb.DMatrix(valid_data.drop(columns=['y']), label=valid_data['y'])\n",
    "dtest = xgb.DMatrix(test_data.drop(columns=['y']), label=test_data['y'])\n",
    "param = {'max_depth': 5, 'eta': 0.3, 'objective': 'reg:squarederror'}\n",
    "param['nthread'] = 4\n",
    "param['eval_metric'] = 'rmse'\n",
    "evallist = [(dvalid, 'eval'), (dtrain, 'train')]\n",
    "num_round = 100\n",
    "# mute verbose\n",
    "bst = xgb.train(param, dtrain, num_round, evallist, early_stopping_rounds=10, verbose_eval=False)\n",
    "# calculate the RMSE\n",
    "pred = bst.predict(dtest)\n",
    "preds = pd.DataFrame({'y': test_data['y'], 'pred': pred})\n",
    "r2, rmse, mae, pcc = calc_score(preds['y'], preds['pred'])\n",
    "print(f'R2: {r2:.4f}, RMSE: {rmse:.4f}, MAE: {mae:.4f}, PCC: {pcc:.4f}')"
   ]
  },
  {
   "cell_type": "code",
   "execution_count": null,
   "metadata": {},
   "outputs": [
    {
     "name": "stdout",
     "output_type": "stream",
     "text": [
      "Fitting 5 folds for each of 125 candidates, totalling 625 fits\n"
     ]
    }
   ],
   "source": [
    "# Grid search for hyperparameters\n",
    "from sklearn.model_selection import GridSearchCV\n",
    "\n",
    "param_grid = {\n",
    "    'max_depth': [3, 4, 5, 6, 7],\n",
    "    'learning_rate': [0.01, 0.05, 0.1, 0.2, 0.3],\n",
    "    'n_estimators': [100, 200, 300, 400, 500]\n",
    "}\n",
    "\n",
    "xgb_model = xgb.XGBRegressor()\n",
    "grid_search = GridSearchCV(estimator=xgb_model, param_grid=param_grid, cv=5, n_jobs=-1, verbose=2)\n",
    "grid_search.fit(train_data.drop(columns=['y']), train_data['y'])\n",
    "print(grid_search.best_params_)\n"
   ]
  },
  {
   "cell_type": "code",
   "execution_count": null,
   "metadata": {},
   "outputs": [
    {
     "name": "stdout",
     "output_type": "stream",
     "text": [
      "Morgan fingerprints shape: (1922, 2048)\n",
      "Morgan fingerprints shape: (482, 2048)\n",
      "Morgan fingerprints shape: (600, 2048)\n"
     ]
    },
    {
     "name": "stderr",
     "output_type": "stream",
     "text": [
      "c:\\Users\\Administrator\\.conda\\envs\\cheminfo\\lib\\site-packages\\xgboost\\core.py:726: FutureWarning: Pass `evals` as keyword args.\n",
      "  warnings.warn(msg, FutureWarning)\n",
      "c:\\Users\\Administrator\\.conda\\envs\\cheminfo\\lib\\site-packages\\xgboost\\core.py:160: UserWarning: [21:06:59] WARNING: C:\\buildkite-agent\\builds\\buildkite-windows-cpu-autoscaling-group-i-0cec3277c4d9d0165-1\\xgboost\\xgboost-ci-windows\\src\\learner.cc:742: \n",
      "Parameters: { \"n_estimators\" } are not used.\n",
      "\n",
      "  warnings.warn(smsg, UserWarning)\n"
     ]
    },
    {
     "name": "stdout",
     "output_type": "stream",
     "text": [
      "RMSE: 26.295572621969356\n",
      "Morgan fingerprints shape: (1922, 2048)\n",
      "Morgan fingerprints shape: (482, 2048)\n",
      "Morgan fingerprints shape: (600, 2048)\n"
     ]
    },
    {
     "name": "stderr",
     "output_type": "stream",
     "text": [
      "c:\\Users\\Administrator\\.conda\\envs\\cheminfo\\lib\\site-packages\\xgboost\\core.py:726: FutureWarning: Pass `evals` as keyword args.\n",
      "  warnings.warn(msg, FutureWarning)\n",
      "c:\\Users\\Administrator\\.conda\\envs\\cheminfo\\lib\\site-packages\\xgboost\\core.py:160: UserWarning: [21:07:02] WARNING: C:\\buildkite-agent\\builds\\buildkite-windows-cpu-autoscaling-group-i-0cec3277c4d9d0165-1\\xgboost\\xgboost-ci-windows\\src\\learner.cc:742: \n",
      "Parameters: { \"n_estimators\" } are not used.\n",
      "\n",
      "  warnings.warn(smsg, UserWarning)\n"
     ]
    },
    {
     "name": "stdout",
     "output_type": "stream",
     "text": [
      "RMSE: 26.739603866491706\n",
      "Morgan fingerprints shape: (1924, 2048)\n",
      "Morgan fingerprints shape: (480, 2048)\n",
      "Morgan fingerprints shape: (600, 2048)\n"
     ]
    },
    {
     "name": "stderr",
     "output_type": "stream",
     "text": [
      "c:\\Users\\Administrator\\.conda\\envs\\cheminfo\\lib\\site-packages\\xgboost\\core.py:726: FutureWarning: Pass `evals` as keyword args.\n",
      "  warnings.warn(msg, FutureWarning)\n",
      "c:\\Users\\Administrator\\.conda\\envs\\cheminfo\\lib\\site-packages\\xgboost\\core.py:160: UserWarning: [21:07:05] WARNING: C:\\buildkite-agent\\builds\\buildkite-windows-cpu-autoscaling-group-i-0cec3277c4d9d0165-1\\xgboost\\xgboost-ci-windows\\src\\learner.cc:742: \n",
      "Parameters: { \"n_estimators\" } are not used.\n",
      "\n",
      "  warnings.warn(smsg, UserWarning)\n"
     ]
    },
    {
     "name": "stdout",
     "output_type": "stream",
     "text": [
      "RMSE: 27.806888302044705\n",
      "Morgan fingerprints shape: (1924, 2048)\n",
      "Morgan fingerprints shape: (480, 2048)\n",
      "Morgan fingerprints shape: (600, 2048)\n"
     ]
    },
    {
     "name": "stderr",
     "output_type": "stream",
     "text": [
      "c:\\Users\\Administrator\\.conda\\envs\\cheminfo\\lib\\site-packages\\xgboost\\core.py:726: FutureWarning: Pass `evals` as keyword args.\n",
      "  warnings.warn(msg, FutureWarning)\n",
      "c:\\Users\\Administrator\\.conda\\envs\\cheminfo\\lib\\site-packages\\xgboost\\core.py:160: UserWarning: [21:07:08] WARNING: C:\\buildkite-agent\\builds\\buildkite-windows-cpu-autoscaling-group-i-0cec3277c4d9d0165-1\\xgboost\\xgboost-ci-windows\\src\\learner.cc:742: \n",
      "Parameters: { \"n_estimators\" } are not used.\n",
      "\n",
      "  warnings.warn(smsg, UserWarning)\n"
     ]
    },
    {
     "name": "stdout",
     "output_type": "stream",
     "text": [
      "RMSE: 26.176494644406915\n",
      "Morgan fingerprints shape: (1924, 2048)\n",
      "Morgan fingerprints shape: (480, 2048)\n",
      "Morgan fingerprints shape: (600, 2048)\n"
     ]
    },
    {
     "name": "stderr",
     "output_type": "stream",
     "text": [
      "c:\\Users\\Administrator\\.conda\\envs\\cheminfo\\lib\\site-packages\\xgboost\\core.py:726: FutureWarning: Pass `evals` as keyword args.\n",
      "  warnings.warn(msg, FutureWarning)\n",
      "c:\\Users\\Administrator\\.conda\\envs\\cheminfo\\lib\\site-packages\\xgboost\\core.py:160: UserWarning: [21:07:12] WARNING: C:\\buildkite-agent\\builds\\buildkite-windows-cpu-autoscaling-group-i-0cec3277c4d9d0165-1\\xgboost\\xgboost-ci-windows\\src\\learner.cc:742: \n",
      "Parameters: { \"n_estimators\" } are not used.\n",
      "\n",
      "  warnings.warn(smsg, UserWarning)\n"
     ]
    },
    {
     "name": "stdout",
     "output_type": "stream",
     "text": [
      "RMSE: 27.376687391110828\n",
      "Morgan fingerprints shape: (1922, 2048)\n",
      "Morgan fingerprints shape: (482, 2048)\n",
      "Morgan fingerprints shape: (600, 2048)\n"
     ]
    },
    {
     "name": "stderr",
     "output_type": "stream",
     "text": [
      "c:\\Users\\Administrator\\.conda\\envs\\cheminfo\\lib\\site-packages\\xgboost\\core.py:726: FutureWarning: Pass `evals` as keyword args.\n",
      "  warnings.warn(msg, FutureWarning)\n",
      "c:\\Users\\Administrator\\.conda\\envs\\cheminfo\\lib\\site-packages\\xgboost\\core.py:160: UserWarning: [21:07:15] WARNING: C:\\buildkite-agent\\builds\\buildkite-windows-cpu-autoscaling-group-i-0cec3277c4d9d0165-1\\xgboost\\xgboost-ci-windows\\src\\learner.cc:742: \n",
      "Parameters: { \"n_estimators\" } are not used.\n",
      "\n",
      "  warnings.warn(smsg, UserWarning)\n"
     ]
    },
    {
     "name": "stdout",
     "output_type": "stream",
     "text": [
      "RMSE: 26.75816373254894\n",
      "Morgan fingerprints shape: (1922, 2048)\n",
      "Morgan fingerprints shape: (482, 2048)\n",
      "Morgan fingerprints shape: (600, 2048)\n"
     ]
    },
    {
     "name": "stderr",
     "output_type": "stream",
     "text": [
      "c:\\Users\\Administrator\\.conda\\envs\\cheminfo\\lib\\site-packages\\xgboost\\core.py:726: FutureWarning: Pass `evals` as keyword args.\n",
      "  warnings.warn(msg, FutureWarning)\n",
      "c:\\Users\\Administrator\\.conda\\envs\\cheminfo\\lib\\site-packages\\xgboost\\core.py:160: UserWarning: [21:07:18] WARNING: C:\\buildkite-agent\\builds\\buildkite-windows-cpu-autoscaling-group-i-0cec3277c4d9d0165-1\\xgboost\\xgboost-ci-windows\\src\\learner.cc:742: \n",
      "Parameters: { \"n_estimators\" } are not used.\n",
      "\n",
      "  warnings.warn(smsg, UserWarning)\n"
     ]
    },
    {
     "name": "stdout",
     "output_type": "stream",
     "text": [
      "RMSE: 26.34327106926561\n",
      "Morgan fingerprints shape: (1924, 2048)\n",
      "Morgan fingerprints shape: (480, 2048)\n",
      "Morgan fingerprints shape: (600, 2048)\n"
     ]
    },
    {
     "name": "stderr",
     "output_type": "stream",
     "text": [
      "c:\\Users\\Administrator\\.conda\\envs\\cheminfo\\lib\\site-packages\\xgboost\\core.py:726: FutureWarning: Pass `evals` as keyword args.\n",
      "  warnings.warn(msg, FutureWarning)\n",
      "c:\\Users\\Administrator\\.conda\\envs\\cheminfo\\lib\\site-packages\\xgboost\\core.py:160: UserWarning: [21:07:21] WARNING: C:\\buildkite-agent\\builds\\buildkite-windows-cpu-autoscaling-group-i-0cec3277c4d9d0165-1\\xgboost\\xgboost-ci-windows\\src\\learner.cc:742: \n",
      "Parameters: { \"n_estimators\" } are not used.\n",
      "\n",
      "  warnings.warn(smsg, UserWarning)\n"
     ]
    },
    {
     "name": "stdout",
     "output_type": "stream",
     "text": [
      "RMSE: 25.41045341723535\n",
      "Morgan fingerprints shape: (1924, 2048)\n",
      "Morgan fingerprints shape: (480, 2048)\n",
      "Morgan fingerprints shape: (600, 2048)\n"
     ]
    },
    {
     "name": "stderr",
     "output_type": "stream",
     "text": [
      "c:\\Users\\Administrator\\.conda\\envs\\cheminfo\\lib\\site-packages\\xgboost\\core.py:726: FutureWarning: Pass `evals` as keyword args.\n",
      "  warnings.warn(msg, FutureWarning)\n",
      "c:\\Users\\Administrator\\.conda\\envs\\cheminfo\\lib\\site-packages\\xgboost\\core.py:160: UserWarning: [21:07:24] WARNING: C:\\buildkite-agent\\builds\\buildkite-windows-cpu-autoscaling-group-i-0cec3277c4d9d0165-1\\xgboost\\xgboost-ci-windows\\src\\learner.cc:742: \n",
      "Parameters: { \"n_estimators\" } are not used.\n",
      "\n",
      "  warnings.warn(smsg, UserWarning)\n"
     ]
    },
    {
     "name": "stdout",
     "output_type": "stream",
     "text": [
      "RMSE: 27.855513751439425\n",
      "Morgan fingerprints shape: (1924, 2048)\n",
      "Morgan fingerprints shape: (480, 2048)\n",
      "Morgan fingerprints shape: (600, 2048)\n"
     ]
    },
    {
     "name": "stderr",
     "output_type": "stream",
     "text": [
      "c:\\Users\\Administrator\\.conda\\envs\\cheminfo\\lib\\site-packages\\xgboost\\core.py:726: FutureWarning: Pass `evals` as keyword args.\n",
      "  warnings.warn(msg, FutureWarning)\n",
      "c:\\Users\\Administrator\\.conda\\envs\\cheminfo\\lib\\site-packages\\xgboost\\core.py:160: UserWarning: [21:07:27] WARNING: C:\\buildkite-agent\\builds\\buildkite-windows-cpu-autoscaling-group-i-0cec3277c4d9d0165-1\\xgboost\\xgboost-ci-windows\\src\\learner.cc:742: \n",
      "Parameters: { \"n_estimators\" } are not used.\n",
      "\n",
      "  warnings.warn(smsg, UserWarning)\n"
     ]
    },
    {
     "name": "stdout",
     "output_type": "stream",
     "text": [
      "RMSE: 27.66299389678382\n",
      "Morgan fingerprints shape: (1922, 2048)\n",
      "Morgan fingerprints shape: (482, 2048)\n",
      "Morgan fingerprints shape: (600, 2048)\n"
     ]
    },
    {
     "name": "stderr",
     "output_type": "stream",
     "text": [
      "c:\\Users\\Administrator\\.conda\\envs\\cheminfo\\lib\\site-packages\\xgboost\\core.py:726: FutureWarning: Pass `evals` as keyword args.\n",
      "  warnings.warn(msg, FutureWarning)\n",
      "c:\\Users\\Administrator\\.conda\\envs\\cheminfo\\lib\\site-packages\\xgboost\\core.py:160: UserWarning: [21:07:30] WARNING: C:\\buildkite-agent\\builds\\buildkite-windows-cpu-autoscaling-group-i-0cec3277c4d9d0165-1\\xgboost\\xgboost-ci-windows\\src\\learner.cc:742: \n",
      "Parameters: { \"n_estimators\" } are not used.\n",
      "\n",
      "  warnings.warn(smsg, UserWarning)\n"
     ]
    },
    {
     "name": "stdout",
     "output_type": "stream",
     "text": [
      "RMSE: 27.444066273296105\n",
      "Morgan fingerprints shape: (1922, 2048)\n",
      "Morgan fingerprints shape: (482, 2048)\n",
      "Morgan fingerprints shape: (600, 2048)\n"
     ]
    },
    {
     "name": "stderr",
     "output_type": "stream",
     "text": [
      "c:\\Users\\Administrator\\.conda\\envs\\cheminfo\\lib\\site-packages\\xgboost\\core.py:726: FutureWarning: Pass `evals` as keyword args.\n",
      "  warnings.warn(msg, FutureWarning)\n",
      "c:\\Users\\Administrator\\.conda\\envs\\cheminfo\\lib\\site-packages\\xgboost\\core.py:160: UserWarning: [21:07:33] WARNING: C:\\buildkite-agent\\builds\\buildkite-windows-cpu-autoscaling-group-i-0cec3277c4d9d0165-1\\xgboost\\xgboost-ci-windows\\src\\learner.cc:742: \n",
      "Parameters: { \"n_estimators\" } are not used.\n",
      "\n",
      "  warnings.warn(smsg, UserWarning)\n"
     ]
    },
    {
     "name": "stdout",
     "output_type": "stream",
     "text": [
      "RMSE: 26.475422567030478\n",
      "Morgan fingerprints shape: (1924, 2048)\n",
      "Morgan fingerprints shape: (480, 2048)\n",
      "Morgan fingerprints shape: (600, 2048)\n"
     ]
    },
    {
     "name": "stderr",
     "output_type": "stream",
     "text": [
      "c:\\Users\\Administrator\\.conda\\envs\\cheminfo\\lib\\site-packages\\xgboost\\core.py:726: FutureWarning: Pass `evals` as keyword args.\n",
      "  warnings.warn(msg, FutureWarning)\n",
      "c:\\Users\\Administrator\\.conda\\envs\\cheminfo\\lib\\site-packages\\xgboost\\core.py:160: UserWarning: [21:07:36] WARNING: C:\\buildkite-agent\\builds\\buildkite-windows-cpu-autoscaling-group-i-0cec3277c4d9d0165-1\\xgboost\\xgboost-ci-windows\\src\\learner.cc:742: \n",
      "Parameters: { \"n_estimators\" } are not used.\n",
      "\n",
      "  warnings.warn(smsg, UserWarning)\n"
     ]
    },
    {
     "name": "stdout",
     "output_type": "stream",
     "text": [
      "RMSE: 26.935151148159882\n",
      "Morgan fingerprints shape: (1924, 2048)\n",
      "Morgan fingerprints shape: (480, 2048)\n",
      "Morgan fingerprints shape: (600, 2048)\n"
     ]
    },
    {
     "name": "stderr",
     "output_type": "stream",
     "text": [
      "c:\\Users\\Administrator\\.conda\\envs\\cheminfo\\lib\\site-packages\\xgboost\\core.py:726: FutureWarning: Pass `evals` as keyword args.\n",
      "  warnings.warn(msg, FutureWarning)\n",
      "c:\\Users\\Administrator\\.conda\\envs\\cheminfo\\lib\\site-packages\\xgboost\\core.py:160: UserWarning: [21:07:39] WARNING: C:\\buildkite-agent\\builds\\buildkite-windows-cpu-autoscaling-group-i-0cec3277c4d9d0165-1\\xgboost\\xgboost-ci-windows\\src\\learner.cc:742: \n",
      "Parameters: { \"n_estimators\" } are not used.\n",
      "\n",
      "  warnings.warn(smsg, UserWarning)\n"
     ]
    },
    {
     "name": "stdout",
     "output_type": "stream",
     "text": [
      "RMSE: 26.855610174926937\n",
      "Morgan fingerprints shape: (1924, 2048)\n",
      "Morgan fingerprints shape: (480, 2048)\n",
      "Morgan fingerprints shape: (600, 2048)\n"
     ]
    },
    {
     "name": "stderr",
     "output_type": "stream",
     "text": [
      "c:\\Users\\Administrator\\.conda\\envs\\cheminfo\\lib\\site-packages\\xgboost\\core.py:726: FutureWarning: Pass `evals` as keyword args.\n",
      "  warnings.warn(msg, FutureWarning)\n",
      "c:\\Users\\Administrator\\.conda\\envs\\cheminfo\\lib\\site-packages\\xgboost\\core.py:160: UserWarning: [21:07:42] WARNING: C:\\buildkite-agent\\builds\\buildkite-windows-cpu-autoscaling-group-i-0cec3277c4d9d0165-1\\xgboost\\xgboost-ci-windows\\src\\learner.cc:742: \n",
      "Parameters: { \"n_estimators\" } are not used.\n",
      "\n",
      "  warnings.warn(smsg, UserWarning)\n"
     ]
    },
    {
     "name": "stdout",
     "output_type": "stream",
     "text": [
      "RMSE: 26.177115476815842\n",
      "Morgan fingerprints shape: (1922, 2048)\n",
      "Morgan fingerprints shape: (482, 2048)\n",
      "Morgan fingerprints shape: (600, 2048)\n"
     ]
    },
    {
     "name": "stderr",
     "output_type": "stream",
     "text": [
      "c:\\Users\\Administrator\\.conda\\envs\\cheminfo\\lib\\site-packages\\xgboost\\core.py:726: FutureWarning: Pass `evals` as keyword args.\n",
      "  warnings.warn(msg, FutureWarning)\n",
      "c:\\Users\\Administrator\\.conda\\envs\\cheminfo\\lib\\site-packages\\xgboost\\core.py:160: UserWarning: [21:07:45] WARNING: C:\\buildkite-agent\\builds\\buildkite-windows-cpu-autoscaling-group-i-0cec3277c4d9d0165-1\\xgboost\\xgboost-ci-windows\\src\\learner.cc:742: \n",
      "Parameters: { \"n_estimators\" } are not used.\n",
      "\n",
      "  warnings.warn(smsg, UserWarning)\n"
     ]
    },
    {
     "name": "stdout",
     "output_type": "stream",
     "text": [
      "RMSE: 26.431988306030895\n",
      "Morgan fingerprints shape: (1922, 2048)\n",
      "Morgan fingerprints shape: (482, 2048)\n",
      "Morgan fingerprints shape: (600, 2048)\n"
     ]
    },
    {
     "name": "stderr",
     "output_type": "stream",
     "text": [
      "c:\\Users\\Administrator\\.conda\\envs\\cheminfo\\lib\\site-packages\\xgboost\\core.py:726: FutureWarning: Pass `evals` as keyword args.\n",
      "  warnings.warn(msg, FutureWarning)\n",
      "c:\\Users\\Administrator\\.conda\\envs\\cheminfo\\lib\\site-packages\\xgboost\\core.py:160: UserWarning: [21:07:49] WARNING: C:\\buildkite-agent\\builds\\buildkite-windows-cpu-autoscaling-group-i-0cec3277c4d9d0165-1\\xgboost\\xgboost-ci-windows\\src\\learner.cc:742: \n",
      "Parameters: { \"n_estimators\" } are not used.\n",
      "\n",
      "  warnings.warn(smsg, UserWarning)\n"
     ]
    },
    {
     "name": "stdout",
     "output_type": "stream",
     "text": [
      "RMSE: 26.973262406789814\n",
      "Morgan fingerprints shape: (1924, 2048)\n",
      "Morgan fingerprints shape: (480, 2048)\n",
      "Morgan fingerprints shape: (600, 2048)\n"
     ]
    },
    {
     "name": "stderr",
     "output_type": "stream",
     "text": [
      "c:\\Users\\Administrator\\.conda\\envs\\cheminfo\\lib\\site-packages\\xgboost\\core.py:726: FutureWarning: Pass `evals` as keyword args.\n",
      "  warnings.warn(msg, FutureWarning)\n",
      "c:\\Users\\Administrator\\.conda\\envs\\cheminfo\\lib\\site-packages\\xgboost\\core.py:160: UserWarning: [21:07:52] WARNING: C:\\buildkite-agent\\builds\\buildkite-windows-cpu-autoscaling-group-i-0cec3277c4d9d0165-1\\xgboost\\xgboost-ci-windows\\src\\learner.cc:742: \n",
      "Parameters: { \"n_estimators\" } are not used.\n",
      "\n",
      "  warnings.warn(smsg, UserWarning)\n"
     ]
    },
    {
     "name": "stdout",
     "output_type": "stream",
     "text": [
      "RMSE: 26.543329043249393\n",
      "Morgan fingerprints shape: (1924, 2048)\n",
      "Morgan fingerprints shape: (480, 2048)\n",
      "Morgan fingerprints shape: (600, 2048)\n"
     ]
    },
    {
     "name": "stderr",
     "output_type": "stream",
     "text": [
      "c:\\Users\\Administrator\\.conda\\envs\\cheminfo\\lib\\site-packages\\xgboost\\core.py:726: FutureWarning: Pass `evals` as keyword args.\n",
      "  warnings.warn(msg, FutureWarning)\n",
      "c:\\Users\\Administrator\\.conda\\envs\\cheminfo\\lib\\site-packages\\xgboost\\core.py:160: UserWarning: [21:07:55] WARNING: C:\\buildkite-agent\\builds\\buildkite-windows-cpu-autoscaling-group-i-0cec3277c4d9d0165-1\\xgboost\\xgboost-ci-windows\\src\\learner.cc:742: \n",
      "Parameters: { \"n_estimators\" } are not used.\n",
      "\n",
      "  warnings.warn(smsg, UserWarning)\n"
     ]
    },
    {
     "name": "stdout",
     "output_type": "stream",
     "text": [
      "RMSE: 27.147445422388255\n",
      "Morgan fingerprints shape: (1924, 2048)\n",
      "Morgan fingerprints shape: (480, 2048)\n",
      "Morgan fingerprints shape: (600, 2048)\n"
     ]
    },
    {
     "name": "stderr",
     "output_type": "stream",
     "text": [
      "c:\\Users\\Administrator\\.conda\\envs\\cheminfo\\lib\\site-packages\\xgboost\\core.py:726: FutureWarning: Pass `evals` as keyword args.\n",
      "  warnings.warn(msg, FutureWarning)\n",
      "c:\\Users\\Administrator\\.conda\\envs\\cheminfo\\lib\\site-packages\\xgboost\\core.py:160: UserWarning: [21:07:58] WARNING: C:\\buildkite-agent\\builds\\buildkite-windows-cpu-autoscaling-group-i-0cec3277c4d9d0165-1\\xgboost\\xgboost-ci-windows\\src\\learner.cc:742: \n",
      "Parameters: { \"n_estimators\" } are not used.\n",
      "\n",
      "  warnings.warn(smsg, UserWarning)\n"
     ]
    },
    {
     "name": "stdout",
     "output_type": "stream",
     "text": [
      "RMSE: 25.605602024126945\n",
      "Morgan fingerprints shape: (1922, 2048)\n",
      "Morgan fingerprints shape: (482, 2048)\n",
      "Morgan fingerprints shape: (600, 2048)\n"
     ]
    },
    {
     "name": "stderr",
     "output_type": "stream",
     "text": [
      "c:\\Users\\Administrator\\.conda\\envs\\cheminfo\\lib\\site-packages\\xgboost\\core.py:726: FutureWarning: Pass `evals` as keyword args.\n",
      "  warnings.warn(msg, FutureWarning)\n",
      "c:\\Users\\Administrator\\.conda\\envs\\cheminfo\\lib\\site-packages\\xgboost\\core.py:160: UserWarning: [21:08:01] WARNING: C:\\buildkite-agent\\builds\\buildkite-windows-cpu-autoscaling-group-i-0cec3277c4d9d0165-1\\xgboost\\xgboost-ci-windows\\src\\learner.cc:742: \n",
      "Parameters: { \"n_estimators\" } are not used.\n",
      "\n",
      "  warnings.warn(smsg, UserWarning)\n"
     ]
    },
    {
     "name": "stdout",
     "output_type": "stream",
     "text": [
      "RMSE: 27.075741701687843\n",
      "Morgan fingerprints shape: (1922, 2048)\n",
      "Morgan fingerprints shape: (482, 2048)\n",
      "Morgan fingerprints shape: (600, 2048)\n"
     ]
    },
    {
     "name": "stderr",
     "output_type": "stream",
     "text": [
      "c:\\Users\\Administrator\\.conda\\envs\\cheminfo\\lib\\site-packages\\xgboost\\core.py:726: FutureWarning: Pass `evals` as keyword args.\n",
      "  warnings.warn(msg, FutureWarning)\n",
      "c:\\Users\\Administrator\\.conda\\envs\\cheminfo\\lib\\site-packages\\xgboost\\core.py:160: UserWarning: [21:08:04] WARNING: C:\\buildkite-agent\\builds\\buildkite-windows-cpu-autoscaling-group-i-0cec3277c4d9d0165-1\\xgboost\\xgboost-ci-windows\\src\\learner.cc:742: \n",
      "Parameters: { \"n_estimators\" } are not used.\n",
      "\n",
      "  warnings.warn(smsg, UserWarning)\n"
     ]
    },
    {
     "name": "stdout",
     "output_type": "stream",
     "text": [
      "RMSE: 26.21774456923926\n",
      "Morgan fingerprints shape: (1924, 2048)\n",
      "Morgan fingerprints shape: (480, 2048)\n",
      "Morgan fingerprints shape: (600, 2048)\n"
     ]
    },
    {
     "name": "stderr",
     "output_type": "stream",
     "text": [
      "c:\\Users\\Administrator\\.conda\\envs\\cheminfo\\lib\\site-packages\\xgboost\\core.py:726: FutureWarning: Pass `evals` as keyword args.\n",
      "  warnings.warn(msg, FutureWarning)\n",
      "c:\\Users\\Administrator\\.conda\\envs\\cheminfo\\lib\\site-packages\\xgboost\\core.py:160: UserWarning: [21:08:07] WARNING: C:\\buildkite-agent\\builds\\buildkite-windows-cpu-autoscaling-group-i-0cec3277c4d9d0165-1\\xgboost\\xgboost-ci-windows\\src\\learner.cc:742: \n",
      "Parameters: { \"n_estimators\" } are not used.\n",
      "\n",
      "  warnings.warn(smsg, UserWarning)\n"
     ]
    },
    {
     "name": "stdout",
     "output_type": "stream",
     "text": [
      "RMSE: 26.88386261321117\n",
      "Morgan fingerprints shape: (1924, 2048)\n",
      "Morgan fingerprints shape: (480, 2048)\n",
      "Morgan fingerprints shape: (600, 2048)\n"
     ]
    },
    {
     "name": "stderr",
     "output_type": "stream",
     "text": [
      "c:\\Users\\Administrator\\.conda\\envs\\cheminfo\\lib\\site-packages\\xgboost\\core.py:726: FutureWarning: Pass `evals` as keyword args.\n",
      "  warnings.warn(msg, FutureWarning)\n",
      "c:\\Users\\Administrator\\.conda\\envs\\cheminfo\\lib\\site-packages\\xgboost\\core.py:160: UserWarning: [21:08:10] WARNING: C:\\buildkite-agent\\builds\\buildkite-windows-cpu-autoscaling-group-i-0cec3277c4d9d0165-1\\xgboost\\xgboost-ci-windows\\src\\learner.cc:742: \n",
      "Parameters: { \"n_estimators\" } are not used.\n",
      "\n",
      "  warnings.warn(smsg, UserWarning)\n"
     ]
    },
    {
     "name": "stdout",
     "output_type": "stream",
     "text": [
      "RMSE: 26.898225423156696\n",
      "Morgan fingerprints shape: (1924, 2048)\n",
      "Morgan fingerprints shape: (480, 2048)\n",
      "Morgan fingerprints shape: (600, 2048)\n"
     ]
    },
    {
     "name": "stderr",
     "output_type": "stream",
     "text": [
      "c:\\Users\\Administrator\\.conda\\envs\\cheminfo\\lib\\site-packages\\xgboost\\core.py:726: FutureWarning: Pass `evals` as keyword args.\n",
      "  warnings.warn(msg, FutureWarning)\n",
      "c:\\Users\\Administrator\\.conda\\envs\\cheminfo\\lib\\site-packages\\xgboost\\core.py:160: UserWarning: [21:08:13] WARNING: C:\\buildkite-agent\\builds\\buildkite-windows-cpu-autoscaling-group-i-0cec3277c4d9d0165-1\\xgboost\\xgboost-ci-windows\\src\\learner.cc:742: \n",
      "Parameters: { \"n_estimators\" } are not used.\n",
      "\n",
      "  warnings.warn(smsg, UserWarning)\n"
     ]
    },
    {
     "name": "stdout",
     "output_type": "stream",
     "text": [
      "RMSE: 26.1794186397172\n"
     ]
    }
   ],
   "source": [
    "result_collect = []\n",
    "for repeat in range(5):\n",
    "    for fold in range(5):\n",
    "        df = pd.read_csv(f'repeat_{repeat}/fold_{fold}.csv')\n",
    "        train, valid, test = df[df['split'] == 'train'], df[df['split'] == 'valid'], df[df['split'] == 'test']\n",
    "        train_data, valid_data, test_data = feature_pipeline(train), feature_pipeline(valid), feature_pipeline(test)\n",
    "\n",
    "        dtrain = xgb.DMatrix(train_data.drop(columns=['y']), label=train_data['y'])\n",
    "        dvalid = xgb.DMatrix(valid_data.drop(columns=['y']), label=valid_data['y'])\n",
    "        dtest = xgb.DMatrix(test_data.drop(columns=['y']), label=test_data['y'])\n",
    "        param = {'max_depth': 7, 'learning_rate': 0.3, 'n_estimators': 500}\n",
    "        param['eval_metric'] = 'rmse'\n",
    "        evallist = [(dvalid, 'eval'), (dtrain, 'train')]\n",
    "        num_round = 100\n",
    "        # mute verbose\n",
    "        bst = xgb.train(param, dtrain, num_round, evallist, early_stopping_rounds=10, verbose_eval=False)\n",
    "        # calculate the RMSE, \n",
    "        pred = bst.predict(dtest)\n",
    "        preds = pd.DataFrame({'y': test_data['y'], 'pred': pred})\n",
    "        preds['smiles'] = test['smiles'].values    \n",
    "        r2, rmse, mae, pcc = calc_score(preds['y'], preds['pred'])\n",
    "        result_collect.append([repeat, fold, r2, rmse, mae, pcc])\n",
    "        # preds.to_csv(f'repeat_{repeat}/fold_{fold}_pred.csv', index=False)\n",
    "result_df = pd.DataFrame(result_collect, columns=['repeat', 'fold', 'R2', 'RMSE', 'MAE', 'PCC'])\n",
    "result_mean = result_df.groupby('repeat').mean()\n",
    "result_std = result_df.groupby('repeat').std()\n",
    "print('R2:', result_mean['R2'].mean(), result_std['R2'].mean())"
   ]
  },
  {
   "cell_type": "code",
   "execution_count": 8,
   "metadata": {},
   "outputs": [
    {
     "name": "stdout",
     "output_type": "stream",
     "text": [
      "Ensemble RMSE: 24.901475830888188\n"
     ]
    }
   ],
   "source": [
    "# calculate the ensemble RMSE\n",
    "ensemble_preds = []\n",
    "for repeat in range(5):\n",
    "    for fold in range(5):\n",
    "        preds = pd.read_csv(f'repeat_{repeat}/fold_{fold}_pred.csv')\n",
    "        ensemble_preds.append(preds['pred'].values)\n",
    "ensemble_preds = np.mean(ensemble_preds, axis=0)\n",
    "ensemble_preds = pd.DataFrame({'y': preds['y'], 'pred': ensemble_preds})\n",
    "ensemble_preds['smiles'] = test['smiles'].values\n",
    "ensemble_rmse = np.sqrt(np.mean((ensemble_preds['pred'] - ensemble_preds['y'])**2))\n",
    "print(f'Ensemble RMSE: {ensemble_rmse}')"
   ]
  },
  {
   "cell_type": "code",
   "execution_count": null,
   "metadata": {},
   "outputs": [],
   "source": []
  }
 ],
 "metadata": {
  "kernelspec": {
   "display_name": "cheminfo",
   "language": "python",
   "name": "python3"
  },
  "language_info": {
   "codemirror_mode": {
    "name": "ipython",
    "version": 3
   },
   "file_extension": ".py",
   "mimetype": "text/x-python",
   "name": "python",
   "nbconvert_exporter": "python",
   "pygments_lexer": "ipython3",
   "version": "3.8.1"
  }
 },
 "nbformat": 4,
 "nbformat_minor": 2
}
